{
 "cells": [
  {
   "cell_type": "code",
   "execution_count": 1,
   "id": "4baab21b",
   "metadata": {},
   "outputs": [
    {
     "data": {
      "text/plain": [
       "['List',\n",
       " 'Optional',\n",
       " 'PyQirBasicBlock',\n",
       " 'PyQirConstant',\n",
       " 'PyQirFunction',\n",
       " 'PyQirInstruction',\n",
       " 'PyQirModule',\n",
       " 'PyQirOperand',\n",
       " 'PyQirParameter',\n",
       " 'PyQirTerminator',\n",
       " 'PyQirType',\n",
       " 'QirAShrInstr',\n",
       " 'QirAddInstr',\n",
       " 'QirAndInstr',\n",
       " 'QirArrayType',\n",
       " 'QirBlock',\n",
       " 'QirBrTerminator',\n",
       " 'QirCallInstr',\n",
       " 'QirCondBrTerminator',\n",
       " 'QirConstant',\n",
       " 'QirDoubleConstant',\n",
       " 'QirDoubleType',\n",
       " 'QirFAddInstr',\n",
       " 'QirFCmpInstr',\n",
       " 'QirFDivInstr',\n",
       " 'QirFMulInstr',\n",
       " 'QirFNegInstr',\n",
       " 'QirFRemInstr',\n",
       " 'QirFSubInstr',\n",
       " 'QirFunction',\n",
       " 'QirICmpInstr',\n",
       " 'QirInstr',\n",
       " 'QirIntConstant',\n",
       " 'QirIntegerType',\n",
       " 'QirLShrInstr',\n",
       " 'QirLocalOperand',\n",
       " 'QirModule',\n",
       " 'QirMulInstr',\n",
       " 'QirNamedStructType',\n",
       " 'QirNullConstant',\n",
       " 'QirOpInstr',\n",
       " 'QirOperand',\n",
       " 'QirOrInstr',\n",
       " 'QirParameter',\n",
       " 'QirPhiInstr',\n",
       " 'QirPointerType',\n",
       " 'QirQirCallInstr',\n",
       " 'QirQisCallInstr',\n",
       " 'QirQubitConstant',\n",
       " 'QirQubitType',\n",
       " 'QirResultConstant',\n",
       " 'QirResultType',\n",
       " 'QirRetTerminator',\n",
       " 'QirRtCallInstr',\n",
       " 'QirSDivInstr',\n",
       " 'QirSRemInstr',\n",
       " 'QirShlInstr',\n",
       " 'QirStructType',\n",
       " 'QirSubInstr',\n",
       " 'QirSwitchTerminator',\n",
       " 'QirTerminator',\n",
       " 'QirType',\n",
       " 'QirUDivInstr',\n",
       " 'QirURemInstr',\n",
       " 'QirUnreachableTerminator',\n",
       " 'QirVoidType',\n",
       " 'QirXorInstr',\n",
       " 'Tuple',\n",
       " '__builtins__',\n",
       " '__cached__',\n",
       " '__doc__',\n",
       " '__file__',\n",
       " '__loader__',\n",
       " '__name__',\n",
       " '__package__',\n",
       " '__path__',\n",
       " '__spec__',\n",
       " 'module_from_bitcode',\n",
       " 'parser',\n",
       " 'pyqir_parser']"
      ]
     },
     "execution_count": 1,
     "metadata": {},
     "output_type": "execute_result"
    }
   ],
   "source": [
    "import pyqir_parser as pqp\n",
    "dir(pqp)"
   ]
  },
  {
   "cell_type": "code",
   "execution_count": null,
   "id": "d3ab70f4",
   "metadata": {},
   "outputs": [],
   "source": []
  }
 ],
 "metadata": {
  "kernelspec": {
   "display_name": "pyqir-dev",
   "language": "python",
   "name": "pyqir-dev"
  },
  "language_info": {
   "codemirror_mode": {
    "name": "ipython",
    "version": 3
   },
   "file_extension": ".py",
   "mimetype": "text/x-python",
   "name": "python",
   "nbconvert_exporter": "python",
   "pygments_lexer": "ipython3",
   "version": "3.9.9"
  }
 },
 "nbformat": 4,
 "nbformat_minor": 5
}
