{
 "cells": [
  {
   "cell_type": "markdown",
   "id": "79a0d1ae",
   "metadata": {},
   "source": [
    "# Using PyQIR Parser\n",
    "Most of the examples here of the visualization and interop come from this PR by @cgranade: https://github.com/microsoft/qsharp-compiler/pull/1221/"
   ]
  },
  {
   "cell_type": "markdown",
   "id": "a37c0011",
   "metadata": {},
   "source": [
    "## How does the package work?"
   ]
  },
  {
   "cell_type": "markdown",
   "id": "d49a2b5c",
   "metadata": {},
   "source": [
    "Just like any Python package, we need to import the package and then we want to load the QIR file we want to parse."
   ]
  },
  {
   "cell_type": "code",
   "execution_count": 2,
   "id": "a00278d1",
   "metadata": {},
   "outputs": [
    {
     "ename": "ModuleNotFoundError",
     "evalue": "No module named 'qwop'",
     "output_type": "error",
     "traceback": [
      "\u001b[1;31m-------------------------------------------\u001b[0m",
      "\u001b[1;31mModuleNotFoundError\u001b[0mTraceback (most recent call last)",
      "\u001b[1;32m~\\AppData\\Local\\Temp/ipykernel_15684/2790544102.py\u001b[0m in \u001b[0;36m<module>\u001b[1;34m\u001b[0m\n\u001b[0;32m      1\u001b[0m \u001b[1;32mimport\u001b[0m \u001b[0mpprint\u001b[0m \u001b[1;32mas\u001b[0m \u001b[0mpp\u001b[0m\u001b[1;33m\u001b[0m\u001b[1;33m\u001b[0m\u001b[0m\n\u001b[1;32m----> 2\u001b[1;33m \u001b[1;32mfrom\u001b[0m \u001b[0mqwop\u001b[0m \u001b[1;32mimport\u001b[0m \u001b[0mexport_block\u001b[0m\u001b[1;33m\u001b[0m\u001b[1;33m\u001b[0m\u001b[0m\n\u001b[0m",
      "\u001b[1;31mModuleNotFoundError\u001b[0m: No module named 'qwop'"
     ]
    }
   ],
   "source": [
    "import pprint as pp\n",
    "from qwop import export_block"
   ]
  },
  {
   "cell_type": "code",
   "execution_count": 3,
   "id": "da274f59",
   "metadata": {},
   "outputs": [
    {
     "ename": "NameError",
     "evalue": "name 'qwop' is not defined",
     "output_type": "error",
     "traceback": [
      "\u001b[1;31m-------------------------------------------\u001b[0m",
      "\u001b[1;31mNameError\u001b[0m Traceback (most recent call last)",
      "\u001b[1;32m~\\AppData\\Local\\Temp/ipykernel_15684/967956922.py\u001b[0m in \u001b[0;36m<module>\u001b[1;34m\u001b[0m\n\u001b[1;32m----> 1\u001b[1;33m \u001b[0mdir\u001b[0m\u001b[1;33m(\u001b[0m\u001b[0mqwop\u001b[0m\u001b[1;33m)\u001b[0m\u001b[1;33m\u001b[0m\u001b[1;33m\u001b[0m\u001b[0m\n\u001b[0m",
      "\u001b[1;31mNameError\u001b[0m: name 'qwop' is not defined"
     ]
    }
   ],
   "source": [
    "dir(qwop)"
   ]
  },
  {
   "cell_type": "code",
   "execution_count": 4,
   "id": "962487f2",
   "metadata": {},
   "outputs": [],
   "source": [
    "import pyqir_parser as pqp\n",
    "#mod = pqp.QirModule(\"bernstein_vazirani.bc\")\n",
    "mod = pqp.QirModule(\"teleportchain.baseprofile.bc\")"
   ]
  },
  {
   "cell_type": "code",
   "execution_count": 5,
   "id": "c8b0f69d",
   "metadata": {},
   "outputs": [
    {
     "data": {
      "text/plain": [
       "['List',\n",
       " 'Optional',\n",
       " 'PyQirBasicBlock',\n",
       " 'PyQirConstant',\n",
       " 'PyQirFunction',\n",
       " 'PyQirInstruction',\n",
       " 'PyQirModule',\n",
       " 'PyQirOperand',\n",
       " 'PyQirParameter',\n",
       " 'PyQirTerminator',\n",
       " 'PyQirType',\n",
       " 'QirAShrInstr',\n",
       " 'QirAddInstr',\n",
       " 'QirAndInstr',\n",
       " 'QirArrayType',\n",
       " 'QirBlock',\n",
       " 'QirBrTerminator',\n",
       " 'QirCallInstr',\n",
       " 'QirCondBrTerminator',\n",
       " 'QirConstant',\n",
       " 'QirDoubleConstant',\n",
       " 'QirDoubleType',\n",
       " 'QirFAddInstr',\n",
       " 'QirFCmpInstr',\n",
       " 'QirFDivInstr',\n",
       " 'QirFMulInstr',\n",
       " 'QirFNegInstr',\n",
       " 'QirFRemInstr',\n",
       " 'QirFSubInstr',\n",
       " 'QirFunction',\n",
       " 'QirICmpInstr',\n",
       " 'QirInstr',\n",
       " 'QirIntConstant',\n",
       " 'QirIntegerType',\n",
       " 'QirLShrInstr',\n",
       " 'QirLocalOperand',\n",
       " 'QirModule',\n",
       " 'QirMulInstr',\n",
       " 'QirNamedStructType',\n",
       " 'QirNullConstant',\n",
       " 'QirOpInstr',\n",
       " 'QirOperand',\n",
       " 'QirOrInstr',\n",
       " 'QirParameter',\n",
       " 'QirPhiInstr',\n",
       " 'QirPointerType',\n",
       " 'QirQirCallInstr',\n",
       " 'QirQisCallInstr',\n",
       " 'QirQubitConstant',\n",
       " 'QirQubitType',\n",
       " 'QirResultConstant',\n",
       " 'QirResultType',\n",
       " 'QirRetTerminator',\n",
       " 'QirRtCallInstr',\n",
       " 'QirSDivInstr',\n",
       " 'QirSRemInstr',\n",
       " 'QirShlInstr',\n",
       " 'QirStructType',\n",
       " 'QirSubInstr',\n",
       " 'QirSwitchTerminator',\n",
       " 'QirTerminator',\n",
       " 'QirType',\n",
       " 'QirUDivInstr',\n",
       " 'QirURemInstr',\n",
       " 'QirUnreachableTerminator',\n",
       " 'QirVoidType',\n",
       " 'QirXorInstr',\n",
       " 'Tuple',\n",
       " '__builtins__',\n",
       " '__cached__',\n",
       " '__doc__',\n",
       " '__file__',\n",
       " '__loader__',\n",
       " '__name__',\n",
       " '__package__',\n",
       " '__path__',\n",
       " '__spec__',\n",
       " 'module_from_bitcode',\n",
       " 'parser',\n",
       " 'pyqir_parser']"
      ]
     },
     "execution_count": 5,
     "metadata": {},
     "output_type": "execute_result"
    }
   ],
   "source": [
    "dir(pqp)"
   ]
  },
  {
   "cell_type": "markdown",
   "id": "4c226458",
   "metadata": {},
   "source": [
    "We can then look at the attributes and functions that are a part of the `QirModule` class. Of particular interest are  \n",
    "```\n",
    "'functions',\n",
    "'get_entrypoint_funcs',\n",
    "'get_func_by_name',\n",
    "'get_funcs_by_attr',\n",
    "'get_interop_funcs'\n",
    "```\n",
    "as they are what allows us to drill into the module."
   ]
  },
  {
   "cell_type": "code",
   "execution_count": 82,
   "id": "124e8b62",
   "metadata": {},
   "outputs": [
    {
     "data": {
      "text/plain": [
       "['entrypoint_funcs',\n",
       " 'functions',\n",
       " 'get_func_by_name',\n",
       " 'get_funcs_by_attr',\n",
       " 'interop_funcs',\n",
       " 'module']"
      ]
     },
     "execution_count": 82,
     "metadata": {},
     "output_type": "execute_result"
    }
   ],
   "source": [
    "list(filter(lambda a: not(a.startswith('__')), dir(mod)))"
   ]
  },
  {
   "cell_type": "markdown",
   "id": "1f2703a7",
   "metadata": {},
   "source": [
    "We can then look at what functions are listed in the QIR program we imported."
   ]
  },
  {
   "cell_type": "code",
   "execution_count": 83,
   "id": "b282506a",
   "metadata": {},
   "outputs": [
    {
     "data": {
      "text/plain": [
       "['TeleportChain__DemonstrateTeleportationUsingPresharedEntanglement__Interop']"
      ]
     },
     "execution_count": 83,
     "metadata": {},
     "output_type": "execute_result"
    }
   ],
   "source": [
    "[function.name for function in mod.functions]"
   ]
  },
  {
   "cell_type": "markdown",
   "id": "57fbe250",
   "metadata": {},
   "source": [
    "We can either use an index on the mod.functions list or the `get_func_by_name` function."
   ]
  },
  {
   "cell_type": "code",
   "execution_count": 5,
   "id": "cab74a17",
   "metadata": {},
   "outputs": [
    {
     "name": "stdout",
     "output_type": "stream",
     "text": [
      "<pyqir_parser.parser.QirFunction object at 0x0000027ED0F11640>\n"
     ]
    }
   ],
   "source": [
    "func_name = \"TeleportChain__DemonstrateTeleportationUsingPresharedEntanglement__Interop\"\n",
    "func = mod.get_func_by_name(func_name)\n",
    "print(func)"
   ]
  },
  {
   "cell_type": "code",
   "execution_count": 85,
   "id": "8c60ce41",
   "metadata": {},
   "outputs": [
    {
     "data": {
      "text/plain": [
       "['blocks',\n",
       " 'func',\n",
       " 'get_attribute_value',\n",
       " 'get_block_by_name',\n",
       " 'get_instruction_by_output_name',\n",
       " 'name',\n",
       " 'parameters',\n",
       " 'required_qubits',\n",
       " 'required_results',\n",
       " 'return_type']"
      ]
     },
     "execution_count": 85,
     "metadata": {},
     "output_type": "execute_result"
    }
   ],
   "source": [
    "list(filter(lambda a:  not(a.startswith('__')), dir(func)))"
   ]
  },
  {
   "cell_type": "markdown",
   "id": "631ecf11",
   "metadata": {},
   "source": [
    "Now that we have a function, let's look at it's blocks."
   ]
  },
  {
   "cell_type": "code",
   "execution_count": 25,
   "id": "5845c0e8",
   "metadata": {},
   "outputs": [
    {
     "data": {
      "text/plain": [
       "['block',\n",
       " 'get_phi_pairs_by_source_name',\n",
       " 'instructions',\n",
       " 'name',\n",
       " 'phi_nodes',\n",
       " 'terminator']"
      ]
     },
     "execution_count": 25,
     "metadata": {},
     "output_type": "execute_result"
    }
   ],
   "source": [
    "list(filter(lambda a:  not(a.startswith('__')), dir(func.blocks[0])))"
   ]
  },
  {
   "cell_type": "code",
   "execution_count": 37,
   "id": "140b5672",
   "metadata": {},
   "outputs": [
    {
     "data": {
      "text/plain": [
       "['entry',\n",
       " 'then0__1.i.i.i',\n",
       " 'continue__1.i.i.i',\n",
       " 'then0__2.i.i.i',\n",
       " 'TeleportChain__TeleportQubitUsingPresharedEntanglement__body.2.exit.i',\n",
       " 'then0__1.i.i1.i',\n",
       " 'continue__1.i.i2.i',\n",
       " 'then0__2.i.i3.i',\n",
       " 'TeleportChain__DemonstrateTeleportationUsingPresharedEntanglement__body.1.exit']"
      ]
     },
     "execution_count": 37,
     "metadata": {},
     "output_type": "execute_result"
    }
   ],
   "source": [
    "[block.name for block in func.blocks]"
   ]
  },
  {
   "cell_type": "markdown",
   "id": "3c17b367",
   "metadata": {},
   "source": [
    "To look at the function another way, let's use a visualization tool to see the relationship between the blocks."
   ]
  },
  {
   "cell_type": "code",
   "execution_count": 6,
   "id": "98b83a62",
   "metadata": {},
   "outputs": [],
   "source": [
    "import retworkx as rx\n",
    "import retworkx.visualization\n",
    "import matplotlib.pyplot as plt\n",
    "\n",
    "def control_flow_graph(func : pqp.PyQirFunction) -> \"rx.Digraph\":\n",
    "    cfg = rx.PyDiGraph(check_cycle=False, multigraph=True)\n",
    "    blocks = func.blocks\n",
    "    block_indices = {\n",
    "        block.name: cfg.add_node(block)\n",
    "        for block in blocks\n",
    "    }\n",
    "\n",
    "    idx_return = cfg.add_node(\"Return\")\n",
    "    idx_bottom = None\n",
    "\n",
    "    for idx_block, block in enumerate(blocks):\n",
    "        term = block.terminator\n",
    "        if isinstance(term, pqp.QirCondBrTerminator):\n",
    "            cfg.add_edge(idx_block, block_indices[term.true_dest], True)\n",
    "            cfg.add_edge(idx_block, block_indices[term.false_dest], False)\n",
    "        elif isinstance(term, pqp.QirBrTerminator):\n",
    "            cfg.add_edge(idx_block, block_indices[term.dest], ())\n",
    "        elif isinstance(term, pqp.QirRetTerminator):\n",
    "            cfg.add_edge(idx_block, idx_return, ())\n",
    "        elif isinstance(term, pqp.QirSwitchTerminator):\n",
    "            print(f\"Not yet implemented: {term} in {block}\")\n",
    "        elif isinstance(term, pqp.QirUnreachableTerminator):\n",
    "            if idx_bottom is None:\n",
    "                idx_bottom = cfg.add_node(\"⊥\")\n",
    "            cfg.add_edge(idx_block, idx_bottom)\n",
    "        else:\n",
    "            print(f\"Not yet implemented: {term} in {block}\")\n",
    "\n",
    "    return cfg"
   ]
  },
  {
   "cell_type": "code",
   "execution_count": 7,
   "id": "a1597416",
   "metadata": {},
   "outputs": [
    {
     "data": {
      "image/png": "[encoded data removed]",
      "text/plain": [
       "<Figure size 864x864 with 1 Axes>"
      ]
     },
     "metadata": {},
     "output_type": "display_data"
    }
   ],
   "source": [
    "plt.figure(figsize=(12, 12))\n",
    "rx.visualization.mpl_draw(\n",
    "    control_flow_graph(func),\n",
    "    with_labels=True,\n",
    "    labels=lambda block: getattr(block, \"name\", block),\n",
    "    edge_labels=str,\n",
    "    node_size=1200\n",
    ")"
   ]
  },
  {
   "cell_type": "markdown",
   "id": "aad6b954",
   "metadata": {},
   "source": [
    "Looking at all of the instructions in this function in the QIR program:"
   ]
  },
  {
   "cell_type": "code",
   "execution_count": 88,
   "id": "1c4f3cdd",
   "metadata": {
    "scrolled": true
   },
   "outputs": [
    {
     "data": {
      "text/plain": [
       "{'entry': [(None, <pyqir_parser.parser.QirVoidType at 0x22bb1c57dc0>),\n",
       "  (None, <pyqir_parser.parser.QirVoidType at 0x22bb1d0b580>),\n",
       "  (None, <pyqir_parser.parser.QirVoidType at 0x22bb1d0b0d0>),\n",
       "  (None, <pyqir_parser.parser.QirVoidType at 0x22bb1d0b340>),\n",
       "  (None, <pyqir_parser.parser.QirVoidType at 0x22bb1d0b3d0>),\n",
       "  (None, <pyqir_parser.parser.QirVoidType at 0x22bb1d0b760>),\n",
       "  (None, <pyqir_parser.parser.QirVoidType at 0x22bb1d0b250>),\n",
       "  (None, <pyqir_parser.parser.QirVoidType at 0x22bb1d0beb0>),\n",
       "  (None, <pyqir_parser.parser.QirVoidType at 0x22bb016cc70>),\n",
       "  (None, <pyqir_parser.parser.QirVoidType at 0x22bb016c7c0>),\n",
       "  ('0', <pyqir_parser.parser.QirIntegerType at 0x22bb1bbc070>)],\n",
       " 'then0__1.i.i.i': [(None,\n",
       "   <pyqir_parser.parser.QirVoidType at 0x22bb1e14310>)],\n",
       " 'continue__1.i.i.i': [(None,\n",
       "   <pyqir_parser.parser.QirVoidType at 0x22bb1c57c10>),\n",
       "  (None, <pyqir_parser.parser.QirVoidType at 0x22bb1c57400>),\n",
       "  ('1', <pyqir_parser.parser.QirIntegerType at 0x22bb1c57910>)],\n",
       " 'then0__2.i.i.i': [(None,\n",
       "   <pyqir_parser.parser.QirVoidType at 0x22bb1c576a0>)],\n",
       " 'TeleportChain__TeleportQubitUsingPresharedEntanglement__body.2.exit.i': [(None,\n",
       "   <pyqir_parser.parser.QirVoidType at 0x22bb1e14280>),\n",
       "  (None, <pyqir_parser.parser.QirVoidType at 0x22bb1b353d0>),\n",
       "  (None, <pyqir_parser.parser.QirVoidType at 0x22bb1b35070>),\n",
       "  (None, <pyqir_parser.parser.QirVoidType at 0x22bb1c23850>),\n",
       "  ('2', <pyqir_parser.parser.QirIntegerType at 0x22bb1c23fd0>)],\n",
       " 'then0__1.i.i1.i': [(None,\n",
       "   <pyqir_parser.parser.QirVoidType at 0x22bb1c57d00>)],\n",
       " 'continue__1.i.i2.i': [(None,\n",
       "   <pyqir_parser.parser.QirVoidType at 0x22bb1c574c0>),\n",
       "  (None, <pyqir_parser.parser.QirVoidType at 0x22bb1c234f0>),\n",
       "  ('3', <pyqir_parser.parser.QirIntegerType at 0x22bb1c23ca0>)],\n",
       " 'then0__2.i.i3.i': [(None,\n",
       "   <pyqir_parser.parser.QirVoidType at 0x22bb1c57160>)],\n",
       " 'TeleportChain__DemonstrateTeleportationUsingPresharedEntanglement__body.1.exit': [(None,\n",
       "   <pyqir_parser.parser.QirVoidType at 0x22bb1e146d0>),\n",
       "  (None, <pyqir_parser.parser.QirVoidType at 0x22bb1c23a00>),\n",
       "  (None, <pyqir_parser.parser.QirVoidType at 0x22bb1c23e80>),\n",
       "  (None, <pyqir_parser.parser.QirVoidType at 0x22bb1c236d0>),\n",
       "  ('4', <pyqir_parser.parser.QirIntegerType at 0x22bb1c23100>),\n",
       "  ('5', <pyqir_parser.parser.QirIntegerType at 0x22bb1c23760>)]}"
      ]
     },
     "execution_count": 88,
     "metadata": {},
     "output_type": "execute_result"
    }
   ],
   "source": [
    "{block.name : [(inst.output_name, inst.type) for inst in block.instructions] for block in func.blocks}"
   ]
  },
  {
   "cell_type": "markdown",
   "id": "1e7be791",
   "metadata": {},
   "source": [
    "## Testing export example\n",
    "Want to import a bitcode file of a QIR program and dump it out to a cirq or qiskit object.\n",
    "\n",
    "This is most simply viewed as an function on a block in a QIR function, so let's try this on the blocks from the QIR program loaded above. First we have to be sure that the block actually represents a circuit."
   ]
  },
  {
   "cell_type": "code",
   "execution_count": 118,
   "id": "1b91b341",
   "metadata": {},
   "outputs": [],
   "source": [
    "instructions_by_block = [\n",
    "    [\n",
    "        f\"call {inst.func_name}({inst.func_args})\"\n",
    "        if isinstance(inst, pqp.QirCallInstr) else\n",
    "        f\"inst {inst}\"\n",
    "        if isinstance(inst, pqp.QirInstr) else\n",
    "        inst\n",
    "        for inst in block.instructions\n",
    "    ]\n",
    "    for block in func.blocks \n",
    "]"
   ]
  },
  {
   "cell_type": "code",
   "execution_count": 119,
   "id": "b15d09a8",
   "metadata": {},
   "outputs": [
    {
     "name": "stdout",
     "output_type": "stream",
     "text": [
      "{'TeleportChain__TeleportQubitUsingPresharedEntanglement__body.2.exit.i': [<pyqir_parser.parser.QirQisCallInstr object at 0x0000022BB258EC10>,\n",
      "                                                                           <pyqir_parser.parser.QirQisCallInstr object at 0x0000022BB258EF40>,\n",
      "                                                                           <pyqir_parser.parser.QirQisCallInstr object at 0x0000022BB258E730>,\n",
      "                                                                           <pyqir_parser.parser.QirQisCallInstr object at 0x0000022BB258E6A0>,\n",
      "                                                                           <pyqir_parser.parser.QirQirCallInstr object at 0x0000022BB258E7C0>],\n",
      " 'continue__1.i.i.i': [<pyqir_parser.parser.QirQisCallInstr object at 0x0000022BB260B7C0>,\n",
      "                       <pyqir_parser.parser.QirQisCallInstr object at 0x0000022BB260CB20>,\n",
      "                       <pyqir_parser.parser.QirQirCallInstr object at 0x0000022BB260C460>],\n",
      " 'continue__1.i.i2.i': [<pyqir_parser.parser.QirQisCallInstr object at 0x0000022BB258EA30>,\n",
      "                        <pyqir_parser.parser.QirQisCallInstr object at 0x0000022BB258E1C0>,\n",
      "                        <pyqir_parser.parser.QirQirCallInstr object at 0x0000022BB25E84C0>],\n",
      " 'entry': [<pyqir_parser.parser.QirQisCallInstr object at 0x0000022BB2608250>,\n",
      "           <pyqir_parser.parser.QirQisCallInstr object at 0x0000022BB2608C70>,\n",
      "           <pyqir_parser.parser.QirQisCallInstr object at 0x0000022BB2608430>,\n",
      "           <pyqir_parser.parser.QirQisCallInstr object at 0x0000022BB2608A90>,\n",
      "           <pyqir_parser.parser.QirQisCallInstr object at 0x0000022BB2608F70>,\n",
      "           <pyqir_parser.parser.QirQisCallInstr object at 0x0000022BB26089D0>,\n",
      "           <pyqir_parser.parser.QirQisCallInstr object at 0x0000022BB2608DC0>,\n",
      "           <pyqir_parser.parser.QirQisCallInstr object at 0x0000022BB2608FA0>,\n",
      "           <pyqir_parser.parser.QirQisCallInstr object at 0x0000022BB2608640>,\n",
      "           <pyqir_parser.parser.QirQisCallInstr object at 0x0000022BB2608E80>,\n",
      "           <pyqir_parser.parser.QirQirCallInstr object at 0x0000022BB260EAF0>],\n",
      " 'then0__1.i.i.i': [<pyqir_parser.parser.QirQisCallInstr object at 0x0000022BB2608D90>],\n",
      " 'then0__1.i.i1.i': [<pyqir_parser.parser.QirQisCallInstr object at 0x0000022BB258EEB0>],\n",
      " 'then0__2.i.i.i': [<pyqir_parser.parser.QirQisCallInstr object at 0x0000022BB25DED60>],\n",
      " 'then0__2.i.i3.i': [<pyqir_parser.parser.QirQisCallInstr object at 0x0000022BB25E8DC0>]}\n"
     ]
    }
   ],
   "source": [
    "pp.pprint(instructions_dict_of_func)"
   ]
  },
  {
   "cell_type": "markdown",
   "id": "50a62d93",
   "metadata": {},
   "source": [
    "### Open QASM2.0"
   ]
  },
  {
   "cell_type": "markdown",
   "id": "18eed395",
   "metadata": {},
   "source": [
    "### QuTiP"
   ]
  },
  {
   "cell_type": "code",
   "execution_count": 67,
   "id": "208391b2",
   "metadata": {},
   "outputs": [],
   "source": [
    "import pyqir_parser as pqp\n",
    "\n",
    "#mod = pqp.QirModule(\"bernstein_vazirani.bc\")\n",
    "mod = pqp.QirModule(\"teleportchain.baseprofile.bc\")\n",
    "func_name = \"TeleportChain__DemonstrateTeleportationUsingPresharedEntanglement__Interop\"\n",
    "func = mod.get_func_by_name(func_name)\n",
    "\n",
    "from abc import ABCMeta, abstractmethod\n",
    "from typing import Any, Callable, Dict, List, Optional, Set, Union, Generic, TypeVar\n",
    "TOutput = TypeVar('TOutput')\n",
    "try:\n",
    "    import qiskit as qk\n",
    "except ImportError:\n",
    "    qk = None\n",
    "try:\n",
    "    import qutip as qt\n",
    "    import qutip.qip.circuit\n",
    "    import qutip.qip.operations\n",
    "except ImportError:\n",
    "    qt = None"
   ]
  },
  {
   "cell_type": "code",
   "execution_count": 62,
   "id": "510bce86",
   "metadata": {},
   "outputs": [],
   "source": [
    "circuits = {b.name : OpenQasm20Exporter(b).export() for b in func.blocks if is_circuit_like(b)}"
   ]
  },
  {
   "cell_type": "code",
   "execution_count": 63,
   "id": "f21d5832",
   "metadata": {},
   "outputs": [
    {
     "name": "stdout",
     "output_type": "stream",
     "text": [
      "-------------\n",
      "// Generated from QIR block entry.\n",
      "OPENQASM 2.0;\n",
      "include \"qelib1.inc\";\n",
      "\n",
      "qreg q[6];\n",
      "creg c[1];\n",
      "h q[0];\n",
      "CX q[0], q[1];\n",
      "h q[2];\n",
      "CX q[2], q[3];\n",
      "h q[4];\n",
      "CX q[4], q[5];\n",
      "CX q[1], q[2];\n",
      "h q[1];\n",
      "measure q[1] -> c[0];\n",
      "// Requires nonstandard reset gate:\n",
      "reset q[1];\n",
      "// %0 = c[0]\n",
      "\n",
      "\n",
      "-------------\n",
      "// Generated from QIR block then0__1.i.i.i.\n",
      "OPENQASM 2.0;\n",
      "include \"qelib1.inc\";\n",
      "\n",
      "qreg q[1];\n",
      "z q[0];\n",
      "\n",
      "\n",
      "-------------\n",
      "// Generated from QIR block continue__1.i.i.i.\n",
      "OPENQASM 2.0;\n",
      "include \"qelib1.inc\";\n",
      "\n",
      "qreg q[1];\n",
      "creg c[1];\n",
      "measure q[0] -> c[0];\n",
      "// Requires nonstandard reset gate:\n",
      "reset q[0];\n",
      "// %1 = c[0]\n",
      "\n",
      "\n",
      "-------------\n",
      "// Generated from QIR block then0__2.i.i.i.\n",
      "OPENQASM 2.0;\n",
      "include \"qelib1.inc\";\n",
      "\n",
      "qreg q[1];\n",
      "x q[0];\n",
      "\n",
      "\n",
      "-------------\n",
      "// Generated from QIR block TeleportChain__TeleportQubitUsingPresharedEntanglement__body.2.exit.i.\n",
      "OPENQASM 2.0;\n",
      "include \"qelib1.inc\";\n",
      "\n",
      "qreg q[2];\n",
      "creg c[1];\n",
      "CX q[0], q[1];\n",
      "h q[0];\n",
      "measure q[0] -> c[0];\n",
      "// Requires nonstandard reset gate:\n",
      "reset q[0];\n",
      "// %2 = c[0]\n",
      "\n",
      "\n",
      "-------------\n",
      "// Generated from QIR block then0__1.i.i1.i.\n",
      "OPENQASM 2.0;\n",
      "include \"qelib1.inc\";\n",
      "\n",
      "qreg q[1];\n",
      "z q[0];\n",
      "\n",
      "\n",
      "-------------\n",
      "// Generated from QIR block continue__1.i.i2.i.\n",
      "OPENQASM 2.0;\n",
      "include \"qelib1.inc\";\n",
      "\n",
      "qreg q[1];\n",
      "creg c[1];\n",
      "measure q[0] -> c[0];\n",
      "// Requires nonstandard reset gate:\n",
      "reset q[0];\n",
      "// %3 = c[0]\n",
      "\n",
      "\n",
      "-------------\n",
      "// Generated from QIR block then0__2.i.i3.i.\n",
      "OPENQASM 2.0;\n",
      "include \"qelib1.inc\";\n",
      "\n",
      "qreg q[1];\n",
      "x q[0];\n",
      "\n",
      "\n"
     ]
    },
    {
     "data": {
      "text/plain": [
       "[None, None, None, None, None, None, None, None]"
      ]
     },
     "execution_count": 63,
     "metadata": {},
     "output_type": "execute_result"
    }
   ],
   "source": [
    "[print(f\"\"\"-------------\n",
    "{circuit}\n",
    "\n",
    "\"\"\") for block, circuit in circuits.items()]"
   ]
  },
  {
   "cell_type": "code",
   "execution_count": 66,
   "id": "068a52b9",
   "metadata": {
    "scrolled": true
   },
   "outputs": [
    {
     "data": {
      "text/html": [
       "<pre style=\"word-wrap: normal;white-space: pre;background: #fff0;line-height: 1.1;font-family: &quot;Courier New&quot;,Courier,monospace\">     ┌───┐                       \n",
       "q_0: ┤ H ├──■────────────────────\n",
       "     └───┘┌─┴─┐     ┌───┐┌─┐     \n",
       "q_1: ─────┤ X ├──■──┤ H ├┤M├─|0>─\n",
       "     ┌───┐└───┘┌─┴─┐└───┘└╥┘     \n",
       "q_2: ┤ H ├──■──┤ X ├──────╫──────\n",
       "     └───┘┌─┴─┐└───┘      ║      \n",
       "q_3: ─────┤ X ├───────────╫──────\n",
       "     ┌───┐└───┘           ║      \n",
       "q_4: ┤ H ├──■─────────────╫──────\n",
       "     └───┘┌─┴─┐           ║      \n",
       "q_5: ─────┤ X ├───────────╫──────\n",
       "          └───┘           ║      \n",
       "c: 1/═════════════════════╩══════\n",
       "                          0      </pre>"
      ],
      "text/plain": [
       "     ┌───┐                       \n",
       "q_0: ┤ H ├──■────────────────────\n",
       "     └───┘┌─┴─┐     ┌───┐┌─┐     \n",
       "q_1: ─────┤ X ├──■──┤ H ├┤M├─|0>─\n",
       "     ┌───┐└───┘┌─┴─┐└───┘└╥┘     \n",
       "q_2: ┤ H ├──■──┤ X ├──────╫──────\n",
       "     └───┘┌─┴─┐└───┘      ║      \n",
       "q_3: ─────┤ X ├───────────╫──────\n",
       "     ┌───┐└───┘           ║      \n",
       "q_4: ┤ H ├──■─────────────╫──────\n",
       "     └───┘┌─┴─┐           ║      \n",
       "q_5: ─────┤ X ├───────────╫──────\n",
       "          └───┘           ║      \n",
       "c: 1/═════════════════════╩══════\n",
       "                          0      "
      ]
     },
     "execution_count": 66,
     "metadata": {},
     "output_type": "execute_result"
    }
   ],
   "source": [
    "QiskitExporter(func.blocks[0]).export().draw()"
   ]
  },
  {
   "cell_type": "code",
   "execution_count": null,
   "id": "bfb5732a",
   "metadata": {},
   "outputs": [],
   "source": []
  }
 ],
 "metadata": {
  "kernelspec": {
   "display_name": "pyqir-dev",
   "language": "python",
   "name": "pyqir-dev"
  },
  "language_info": {
   "codemirror_mode": {
    "name": "ipython",
    "version": 3
   },
   "file_extension": ".py",
   "mimetype": "text/x-python",
   "name": "python",
   "nbconvert_exporter": "python",
   "pygments_lexer": "ipython3",
   "version": "3.9.9"
  }
 },
 "nbformat": 4,
 "nbformat_minor": 5
}
