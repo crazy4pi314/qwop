{
 "cells": [
  {
   "cell_type": "code",
   "execution_count": 30,
   "id": "4baab21b",
   "metadata": {},
   "outputs": [],
   "source": [
    "import pyqir_parser as pqp\n",
    "import matplotlib.pyplot as plt\n",
    "import networkx as nx\n",
    "from pyvis import network as net"
   ]
  },
  {
   "cell_type": "code",
   "execution_count": 1,
   "id": "b99411a5-fe65-4122-bd36-5d5701b944a4",
   "metadata": {},
   "outputs": [
    {
     "ename": "AttributeError",
     "evalue": "partially initialized module 'qwop.exporters.interface' has no attribute 'CircuitLikeExporter' (most likely due to a circular import)",
     "output_type": "error",
     "traceback": [
      "\u001b[1;31m---------------------------------------------------------------------------\u001b[0m",
      "\u001b[1;31mAttributeError\u001b[0m                            Traceback (most recent call last)",
      "\u001b[1;32m~\\AppData\\Local\\Temp/ipykernel_19380/2156554553.py\u001b[0m in \u001b[0;36m<module>\u001b[1;34m\u001b[0m\n\u001b[1;32m----> 1\u001b[1;33m \u001b[1;32mfrom\u001b[0m \u001b[0mqwop\u001b[0m\u001b[1;33m.\u001b[0m\u001b[0mvisualization\u001b[0m \u001b[1;32mimport\u001b[0m \u001b[1;33m*\u001b[0m\u001b[1;33m\u001b[0m\u001b[1;33m\u001b[0m\u001b[0m\n\u001b[0m",
      "\u001b[1;32mc:\\users\\skais\\git\\crazy4pi314\\qwop\\qwop\\__init__.py\u001b[0m in \u001b[0;36m<module>\u001b[1;34m\u001b[0m\n\u001b[1;32m----> 1\u001b[1;33m \u001b[1;32mfrom\u001b[0m \u001b[1;33m.\u001b[0m\u001b[0mexporters\u001b[0m \u001b[1;32mimport\u001b[0m \u001b[1;33m*\u001b[0m\u001b[1;33m\u001b[0m\u001b[1;33m\u001b[0m\u001b[0m\n\u001b[0m\u001b[0;32m      2\u001b[0m \u001b[1;32mfrom\u001b[0m \u001b[1;33m.\u001b[0m\u001b[0mvisualization\u001b[0m \u001b[1;32mimport\u001b[0m \u001b[1;33m*\u001b[0m\u001b[1;33m\u001b[0m\u001b[1;33m\u001b[0m\u001b[0m\n\u001b[0;32m      3\u001b[0m \u001b[1;33m\u001b[0m\u001b[0m\n\u001b[0;32m      4\u001b[0m \u001b[1;32mtry\u001b[0m\u001b[1;33m:\u001b[0m\u001b[1;33m\u001b[0m\u001b[1;33m\u001b[0m\u001b[0m\n\u001b[0;32m      5\u001b[0m     \u001b[1;32mimport\u001b[0m \u001b[0msys\u001b[0m\u001b[1;33m\u001b[0m\u001b[1;33m\u001b[0m\u001b[0m\n",
      "\u001b[1;32mc:\\users\\skais\\git\\crazy4pi314\\qwop\\qwop\\exporters\\__init__.py\u001b[0m in \u001b[0;36m<module>\u001b[1;34m\u001b[0m\n\u001b[1;32m----> 1\u001b[1;33m \u001b[1;32mfrom\u001b[0m \u001b[1;33m.\u001b[0m\u001b[0minterface\u001b[0m \u001b[1;32mimport\u001b[0m \u001b[1;33m*\u001b[0m\u001b[1;33m\u001b[0m\u001b[1;33m\u001b[0m\u001b[0m\n\u001b[0m\u001b[0;32m      2\u001b[0m \u001b[1;32mfrom\u001b[0m \u001b[1;33m.\u001b[0m\u001b[0mqiskit\u001b[0m \u001b[1;32mimport\u001b[0m \u001b[1;33m*\u001b[0m\u001b[1;33m\u001b[0m\u001b[1;33m\u001b[0m\u001b[0m\n\u001b[0;32m      3\u001b[0m \u001b[1;32mfrom\u001b[0m \u001b[1;33m.\u001b[0m\u001b[0mcirq\u001b[0m \u001b[1;32mimport\u001b[0m \u001b[1;33m*\u001b[0m\u001b[1;33m\u001b[0m\u001b[1;33m\u001b[0m\u001b[0m\n\u001b[0;32m      4\u001b[0m \u001b[1;32mfrom\u001b[0m \u001b[1;33m.\u001b[0m\u001b[0mqutip\u001b[0m \u001b[1;32mimport\u001b[0m \u001b[1;33m*\u001b[0m\u001b[1;33m\u001b[0m\u001b[1;33m\u001b[0m\u001b[0m\n\u001b[0;32m      5\u001b[0m \u001b[1;32mfrom\u001b[0m \u001b[1;33m.\u001b[0m\u001b[0mopenqasm2\u001b[0m \u001b[1;32mimport\u001b[0m \u001b[1;33m*\u001b[0m\u001b[1;33m\u001b[0m\u001b[1;33m\u001b[0m\u001b[0m\n",
      "\u001b[1;32mc:\\users\\skais\\git\\crazy4pi314\\qwop\\qwop\\exporters\\interface.py\u001b[0m in \u001b[0;36m<module>\u001b[1;34m\u001b[0m\n\u001b[0;32m     15\u001b[0m \u001b[1;32mimport\u001b[0m \u001b[0mpyqir_parser\u001b[0m \u001b[1;32mas\u001b[0m \u001b[0mpqp\u001b[0m\u001b[1;33m\u001b[0m\u001b[1;33m\u001b[0m\u001b[0m\n\u001b[0;32m     16\u001b[0m \u001b[1;33m\u001b[0m\u001b[0m\n\u001b[1;32m---> 17\u001b[1;33m \u001b[1;32mimport\u001b[0m \u001b[0mqwop\u001b[0m\u001b[1;33m.\u001b[0m\u001b[0mexporters\u001b[0m\u001b[1;33m.\u001b[0m\u001b[0mcirq\u001b[0m \u001b[1;32mas\u001b[0m \u001b[0m_cirq_ex\u001b[0m\u001b[1;33m\u001b[0m\u001b[1;33m\u001b[0m\u001b[0m\n\u001b[0m\u001b[0;32m     18\u001b[0m \u001b[1;32mimport\u001b[0m \u001b[0mqwop\u001b[0m\u001b[1;33m.\u001b[0m\u001b[0mexporters\u001b[0m\u001b[1;33m.\u001b[0m\u001b[0mopenqasm2\u001b[0m \u001b[1;32mas\u001b[0m \u001b[0m_openqasm2_ex\u001b[0m\u001b[1;33m\u001b[0m\u001b[1;33m\u001b[0m\u001b[0m\n\u001b[0;32m     19\u001b[0m \u001b[1;32mimport\u001b[0m \u001b[0mqwop\u001b[0m\u001b[1;33m.\u001b[0m\u001b[0mexporters\u001b[0m\u001b[1;33m.\u001b[0m\u001b[0mqiskit\u001b[0m \u001b[1;32mas\u001b[0m \u001b[0m_qiskit_ex\u001b[0m\u001b[1;33m\u001b[0m\u001b[1;33m\u001b[0m\u001b[0m\n",
      "\u001b[1;32mc:\\users\\skais\\git\\crazy4pi314\\qwop\\qwop\\exporters\\cirq.py\u001b[0m in \u001b[0;36m<module>\u001b[1;34m\u001b[0m\n\u001b[0;32m     18\u001b[0m     \u001b[1;32mreturn\u001b[0m \u001b[0mcq\u001b[0m\u001b[1;33m.\u001b[0m\u001b[0mLineQubit\u001b[0m\u001b[1;33m(\u001b[0m\u001b[0minterface\u001b[0m\u001b[1;33m.\u001b[0m\u001b[0m_resolve_id\u001b[0m\u001b[1;33m(\u001b[0m\u001b[0mqubit\u001b[0m\u001b[1;33m)\u001b[0m\u001b[1;33m)\u001b[0m\u001b[1;33m\u001b[0m\u001b[1;33m\u001b[0m\u001b[0m\n\u001b[0;32m     19\u001b[0m \u001b[1;33m\u001b[0m\u001b[0m\n\u001b[1;32m---> 20\u001b[1;33m \u001b[1;32mclass\u001b[0m \u001b[0mCirqExporter\u001b[0m\u001b[1;33m(\u001b[0m\u001b[0minterface\u001b[0m\u001b[1;33m.\u001b[0m\u001b[0mCircuitLikeExporter\u001b[0m\u001b[1;33m[\u001b[0m\u001b[1;34m\"cq.Circuit\"\u001b[0m\u001b[1;33m]\u001b[0m\u001b[1;33m)\u001b[0m\u001b[1;33m:\u001b[0m\u001b[1;33m\u001b[0m\u001b[1;33m\u001b[0m\u001b[0m\n\u001b[0m\u001b[0;32m     21\u001b[0m     \u001b[0moperations\u001b[0m \u001b[1;33m:\u001b[0m \u001b[0mList\u001b[0m\u001b[1;33m[\u001b[0m\u001b[0mCallable\u001b[0m\u001b[1;33m[\u001b[0m\u001b[1;33m[\u001b[0m\u001b[1;34m\"cq.ops\"\u001b[0m\u001b[1;33m]\u001b[0m\u001b[1;33m,\u001b[0m \u001b[1;32mNone\u001b[0m\u001b[1;33m]\u001b[0m\u001b[1;33m]\u001b[0m\u001b[1;33m\u001b[0m\u001b[1;33m\u001b[0m\u001b[0m\n\u001b[0;32m     22\u001b[0m \u001b[1;33m\u001b[0m\u001b[0m\n",
      "\u001b[1;31mAttributeError\u001b[0m: partially initialized module 'qwop.exporters.interface' has no attribute 'CircuitLikeExporter' (most likely due to a circular import)"
     ]
    }
   ],
   "source": [
    "from qwop.visualization import *"
   ]
  },
  {
   "cell_type": "code",
   "execution_count": 2,
   "id": "efd243f4-c1e7-4855-8464-5e2485464a7a",
   "metadata": {},
   "outputs": [
    {
     "name": "stdout",
     "output_type": "stream",
     "text": [
      "<pyqir_parser.parser.QirFunction object at 0x0000019901103A90>\n"
     ]
    }
   ],
   "source": [
    "#mod = pqp.QirModule(\"bernstein_vazirani.bc\")\n",
    "mod = pqp.QirModule(\"teleportchain.baseprofile.bc\")\n",
    "func_name = \"TeleportChain__DemonstrateTeleportationUsingPresharedEntanglement__Interop\"\n",
    "func = mod.get_func_by_name(func_name)"
   ]
  },
  {
   "cell_type": "markdown",
   "id": "ad521fbf-d617-4112-bcc3-8f8b756be252",
   "metadata": {},
   "source": [
    "## NetworkX Graph Construction"
   ]
  },
  {
   "cell_type": "code",
   "execution_count": 41,
   "id": "948cf33d-39aa-4284-becc-82d564b2ad1a",
   "metadata": {},
   "outputs": [],
   "source": [
    "# Need a way of telling if a block has quantum instructions.\n",
    "# This is probably wrong as written rn, may want to filter further.\n",
    "def is_block_quantum(block : pqp.QirBlock) -> bool:\n",
    "    return any(\n",
    "        isinstance(instruction, pqp.QirQisCallInstr) \n",
    "        for instruction in block.instructions\n",
    "    )\n",
    "\n",
    "# Adds metadata as a dict to a node derived from a block's contents.\n",
    "def qir_block_style(block : pqp.QirBlock) -> dict:\n",
    "    return {\n",
    "        \"node_color\" : \"red\" if is_block_quantum(block) else \"blue\",\n",
    "        \"node_name\" : block.name,\n",
    "        \"is_endpoint\" : block.name == 'entry'\n",
    "    }\n",
    "\n",
    "# Pyvis expects node labels to be strings, so this just makes a new copy\n",
    "# of a graph and replaces the nodes keyed with `QirBlock` to the \n",
    "# name property of the block\n",
    "def graph_to_pyvis(graph : \"nx.MultiDiGraph\") -> \"nx.MultiDiGraph\":\n",
    "    new_graph = graph.copy()\n",
    "    mapping = {block: data[\"node_name\"] for block, data in new_graph.nodes(data=True)}\n",
    "    return nx.relabel_nodes(new_graph, mapping)\n",
    "\n",
    "#get a dict of edges : edge label simplified by truncation\n",
    "def graph_edge_labels_simple(graph : \"nx.MultiDiGraph\") -> dict:\n",
    "    return {(e1, e2): data[\"cond\"] for e1, e2, data in graph.edges(data=True)}\n",
    "\n",
    "# Generates a NetworkX graph corrisponding to the blocks in \n",
    "# PyQIR function.\n",
    "def control_flow_graph_netx(func : pqp.QirFunction) -> \"nx.MultiDiGraph\":\n",
    "    cfg = nx.MultiDiGraph()\n",
    "    blocks_by_name = {} \n",
    "    for block in func.blocks:\n",
    "        cfg.add_node(block, **qir_block_style(block))\n",
    "        blocks_by_name[block.name] = block\n",
    "    \n",
    "    return_node = \"return\"\n",
    "    bottom_node = None\n",
    "    \n",
    "    cfg.add_node(return_node, **{\n",
    "        \"node_color\" : \"blue\",\n",
    "        \"node_name\" : return_node,\n",
    "        \"is_endpoint\" : True\n",
    "    })\n",
    "\n",
    "    for block in blocks_by_name.values():\n",
    "        term = block.terminator\n",
    "        if isinstance(term, pqp.QirCondBrTerminator):\n",
    "            cfg.add_edge(block, blocks_by_name[term.true_dest], cond=\"True\")\n",
    "            cfg.add_edge(block, blocks_by_name[term.false_dest], cond=\"False\")\n",
    "        elif isinstance(term, pqp.QirBrTerminator):\n",
    "            cfg.add_edge(block, blocks_by_name[term.dest], cond=\"()\")\n",
    "        elif isinstance(term, pqp.QirRetTerminator):\n",
    "            cfg.add_edge(block, return_node, cond=\"()\")\n",
    "        elif isinstance(term, pqp.QirSwitchTerminator):\n",
    "            print(f\"Not yet implemented: {term} in {block}\")\n",
    "        elif isinstance(term, pqp.QirUnreachableTerminator):\n",
    "            if bottom_node is None:\n",
    "                bottom_node = \"⊥\"\n",
    "            cfg.add_edge(block, bottom_node)\n",
    "        else:\n",
    "            print(f\"Not yet implemented: {term} in {block}\")\n",
    "\n",
    "    return cfg"
   ]
  },
  {
   "cell_type": "markdown",
   "id": "d8766ed0-ea86-4334-8363-dd74742ba2e6",
   "metadata": {},
   "source": [
    "Let's make a graph of Teleport!"
   ]
  },
  {
   "cell_type": "code",
   "execution_count": 6,
   "id": "18cc29f9-8970-4e5c-aa15-a52452cf9a7b",
   "metadata": {},
   "outputs": [
    {
     "name": "stdout",
     "output_type": "stream",
     "text": [
      "MultiDiGraph with 10 nodes and 13 edges\n"
     ]
    }
   ],
   "source": [
    "F = control_flow_graph_netx(func)\n",
    "labels={n: getattr(n, \"name\", n)[:12] for n in F.nodes}\n",
    "print(F)"
   ]
  },
  {
   "cell_type": "markdown",
   "id": "67cca298-4fa2-41e5-aa2f-710e1a87d549",
   "metadata": {},
   "source": [
    "Using MatPlotLib we can use the graph above to make static plots of the graph with some of the node information.\n",
    "Here we also color the nodes based on whether the block contains quantum operations."
   ]
  },
  {
   "cell_type": "code",
   "execution_count": 44,
   "id": "d36a89f4-74b4-44c9-b90f-89dd00ad7b31",
   "metadata": {},
   "outputs": [
    {
     "data": {
      "image/png": "[encoded data removed]",
      "text/plain": [
       "<Figure size 1080x576 with 1 Axes>"
      ]
     },
     "metadata": {},
     "output_type": "display_data"
    }
   ],
   "source": [
    "fig, ax = plt.subplots(figsize=(15, 8))\n",
    "pos = nx.kamada_kawai_layout(F)\n",
    "nx.draw_networkx(\n",
    "    F, \n",
    "    pos=pos,\n",
    "    ax=ax,\n",
    "    labels=labels,\n",
    "    arrowstyle=\"->\",\n",
    "    min_source_margin=15,\n",
    "    min_target_margin=15,\n",
    "    node_size=4000,\n",
    "    node_color= [v[\"node_color\"] for n, v in F.nodes.items()])\n",
    "#nx.draw_networkx_edge(G, pos=pos, ax=ax)\n",
    "nx.draw_networkx_edge_labels(F, pos=pos, ax=ax, edge_labels={(e1, e2): data[\"cond\"] for e1, e2, data in F.edges(data=True)})\n",
    "plt.show()"
   ]
  },
  {
   "cell_type": "markdown",
   "id": "25ba5682-3df2-4555-8315-85b54741d160",
   "metadata": {},
   "source": [
    "Next, we want to try an interactive graph with PyVis:"
   ]
  },
  {
   "cell_type": "code",
   "execution_count": 45,
   "id": "482e3775-32ef-490c-b5f5-ec105bd2f11f",
   "metadata": {},
   "outputs": [
    {
     "data": {
      "text/html": [
       "\n",
       "        <iframe\n",
       "            width=\"500px\"\n",
       "            height=\"500px\"\n",
       "            src=\"nx.html\"\n",
       "            frameborder=\"0\"\n",
       "            allowfullscreen\n",
       "            \n",
       "        ></iframe>\n",
       "        "
      ],
      "text/plain": [
       "<IPython.lib.display.IFrame at 0x19904938b50>"
      ]
     },
     "execution_count": 45,
     "metadata": {},
     "output_type": "execute_result"
    }
   ],
   "source": [
    "#nt = net.Network('500px', '500px') #, notebook=True\n",
    "nt = net.Network('500px', '500px', notebook=True)\n",
    "nt.from_nx(H)\n",
    "#nt.show_buttons()\n",
    "nt.show('nx.html')\n"
   ]
  },
  {
   "cell_type": "markdown",
   "id": "0d30ab04-cf6c-4831-bd7d-a06dc8531551",
   "metadata": {},
   "source": [
    "## Notes on PyQIR classes"
   ]
  },
  {
   "cell_type": "markdown",
   "id": "221b39ac-4fdf-49c9-bc9e-a15e390af6fb",
   "metadata": {},
   "source": [
    "https://towardsdatascience.com/customizing-networkx-graphs-f80b4e69bedf tutorial on graph styling"
   ]
  },
  {
   "cell_type": "markdown",
   "id": "f1bb3127-13c3-4484-a618-d85cdb432419",
   "metadata": {},
   "source": [
    "class QirRetTerminator(QirTerminator):\n",
    "    \"\"\"\n",
    "    Instances of QirRetTerminator represent the ret instruction in a QIR program.\n",
    "    \"\"\"\n",
    "\n",
    "class QirBrTerminator(QirTerminator):\n",
    "    \"\"\"\n",
    "    Instances of QirBrTerminator represent a branch terminator instruction that unconditionally\n",
    "    jumps execution to the named destination block.\n",
    "    \"\"\"\n",
    "\n",
    "class QirCondBrTerminator(QirTerminator):\n",
    "    \"\"\"\n",
    "    Instances of QirCondBrTerminator represent a conditional branch terminator instruction that\n",
    "    decides which named block to jump to based on an given operand.\n",
    "    \"\"\"\n",
    "\n",
    "class QirSwitchTerminator(QirTerminator):\n",
    "    \"\"\"\n",
    "    Instances of QirSwitchTerminator represent a switch terminator instruction that can jump\n",
    "    to one or more blocks based on matching values of a given operand, or jump to a fallback block\n",
    "    in the case that no matches are found.\n",
    "    \"\"\"\n",
    "\n",
    "class QirUnreachableTerminator(QirTerminator):\n",
    "    \"\"\"\n",
    "    Instances of QirUnreachableTerminator represent an unreachable terminator instruction. As the name\n",
    "    implies, this terminator is not expected to be reached such that some instruction in the block\n",
    "    before this terminator should halt program execution.\n",
    "    \"\"\""
   ]
  },
  {
   "cell_type": "markdown",
   "id": "1cd82979-8ec6-4dba-9098-47f6b783c911",
   "metadata": {},
   "source": [
    "#### Other useful links\n",
    "- https://towardsdatascience.com/making-network-graphs-interactive-with-python-and-pyvis-b754c22c270\n",
    "- https://towardsdatascience.com/pyvis-visualize-interactive-network-graphs-in-python-77e059791f01\n",
    "- https://visjs.github.io/vis-network/examples/\n",
    "- https://visjs.github.io/vis-network/examples/network/exampleApplications/disassemblerExample.html\n",
    "    "
   ]
  },
  {
   "cell_type": "code",
   "execution_count": null,
   "id": "7a9397db-b5db-465a-99c8-9ae36500d8d2",
   "metadata": {},
   "outputs": [],
   "source": []
  }
 ],
 "metadata": {
  "kernelspec": {
   "display_name": "pyqir-dev",
   "language": "python",
   "name": "pyqir-dev"
  },
  "language_info": {
   "codemirror_mode": {
    "name": "ipython",
    "version": 3
   },
   "file_extension": ".py",
   "mimetype": "text/x-python",
   "name": "python",
   "nbconvert_exporter": "python",
   "pygments_lexer": "ipython3",
   "version": "3.9.9"
  }
 },
 "nbformat": 4,
 "nbformat_minor": 5
}
