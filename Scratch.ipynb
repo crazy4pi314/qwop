{
 "cells": [
  {
   "cell_type": "markdown",
   "id": "c1eb501f",
   "metadata": {},
   "source": [
    "# Using PyQIR Parser\n",
    "Most of the examples here of the visualization and interop come from this PR by @cgranade: https://github.com/microsoft/qsharp-compiler/pull/1221/"
   ]
  },
  {
   "cell_type": "markdown",
   "id": "ea14e075",
   "metadata": {},
   "source": [
    "## How does the package work?"
   ]
  },
  {
   "cell_type": "markdown",
   "id": "f5f3f36a",
   "metadata": {},
   "source": [
    "Just like any Python package, we need to import the package and then we want to load the QIR file we want to parse."
   ]
  },
  {
   "cell_type": "code",
   "execution_count": 10,
   "id": "46e56e97",
   "metadata": {},
   "outputs": [],
   "source": [
    "import pyqir_parser as pqp\n",
    "mod = pqp.QirModule(\"teleportchain.baseprofile.bc\")"
   ]
  },
  {
   "cell_type": "code",
   "execution_count": 11,
   "id": "a0fefdbb",
   "metadata": {},
   "outputs": [
    {
     "data": {
      "text/plain": [
       "['List',\n",
       " 'Optional',\n",
       " 'PyQirBasicBlock',\n",
       " 'PyQirConstant',\n",
       " 'PyQirFunction',\n",
       " 'PyQirInstruction',\n",
       " 'PyQirModule',\n",
       " 'PyQirOperand',\n",
       " 'PyQirParameter',\n",
       " 'PyQirTerminator',\n",
       " 'PyQirType',\n",
       " 'QirAShrInstr',\n",
       " 'QirAddInstr',\n",
       " 'QirAndInstr',\n",
       " 'QirArrayType',\n",
       " 'QirBlock',\n",
       " 'QirBrTerminator',\n",
       " 'QirCallInstr',\n",
       " 'QirCondBrTerminator',\n",
       " 'QirConstant',\n",
       " 'QirDoubleConstant',\n",
       " 'QirDoubleType',\n",
       " 'QirFAddInstr',\n",
       " 'QirFCmpInstr',\n",
       " 'QirFDivInstr',\n",
       " 'QirFMulInstr',\n",
       " 'QirFNegInstr',\n",
       " 'QirFRemInstr',\n",
       " 'QirFSubInstr',\n",
       " 'QirFunction',\n",
       " 'QirICmpInstr',\n",
       " 'QirInstr',\n",
       " 'QirIntConstant',\n",
       " 'QirIntegerType',\n",
       " 'QirLShrInstr',\n",
       " 'QirLocalOperand',\n",
       " 'QirModule',\n",
       " 'QirMulInstr',\n",
       " 'QirNamedStructType',\n",
       " 'QirNullConstant',\n",
       " 'QirOpInstr',\n",
       " 'QirOperand',\n",
       " 'QirOrInstr',\n",
       " 'QirParameter',\n",
       " 'QirPhiInstr',\n",
       " 'QirPointerType',\n",
       " 'QirQirCallInstr',\n",
       " 'QirQisCallInstr',\n",
       " 'QirQubitConstant',\n",
       " 'QirQubitType',\n",
       " 'QirResultConstant',\n",
       " 'QirResultType',\n",
       " 'QirRetTerminator',\n",
       " 'QirRtCallInstr',\n",
       " 'QirSDivInstr',\n",
       " 'QirSRemInstr',\n",
       " 'QirShlInstr',\n",
       " 'QirStructType',\n",
       " 'QirSubInstr',\n",
       " 'QirSwitchTerminator',\n",
       " 'QirTerminator',\n",
       " 'QirType',\n",
       " 'QirUDivInstr',\n",
       " 'QirURemInstr',\n",
       " 'QirUnreachableTerminator',\n",
       " 'QirVoidType',\n",
       " 'QirXorInstr',\n",
       " 'Tuple',\n",
       " '__builtins__',\n",
       " '__cached__',\n",
       " '__doc__',\n",
       " '__file__',\n",
       " '__loader__',\n",
       " '__name__',\n",
       " '__package__',\n",
       " '__path__',\n",
       " '__spec__',\n",
       " 'module_from_bitcode',\n",
       " 'parser',\n",
       " 'pyqir_parser']"
      ]
     },
     "execution_count": 11,
     "metadata": {},
     "output_type": "execute_result"
    }
   ],
   "source": [
    "dir(pqp)"
   ]
  },
  {
   "cell_type": "markdown",
   "id": "ccad9f27",
   "metadata": {},
   "source": [
    "We can then look at the attributes and functions that are a part of the `QirModule` class. Of particular interest are  \n",
    "```\n",
    "'functions',\n",
    "'get_entrypoint_funcs',\n",
    "'get_func_by_name',\n",
    "'get_funcs_by_attr',\n",
    "'get_interop_funcs'\n",
    "```\n",
    "as they are what allows us to drill into the module."
   ]
  },
  {
   "cell_type": "code",
   "execution_count": 12,
   "id": "18e8cac7",
   "metadata": {},
   "outputs": [
    {
     "data": {
      "text/plain": [
       "['entrypoint_funcs',\n",
       " 'functions',\n",
       " 'get_func_by_name',\n",
       " 'get_funcs_by_attr',\n",
       " 'interop_funcs',\n",
       " 'module']"
      ]
     },
     "execution_count": 12,
     "metadata": {},
     "output_type": "execute_result"
    }
   ],
   "source": [
    "list(filter(lambda a: not(a.startswith('__')), dir(mod)))"
   ]
  },
  {
   "cell_type": "markdown",
   "id": "4e4442b3",
   "metadata": {},
   "source": [
    "We can then look at what functions are listed in the QIR program we imported."
   ]
  },
  {
   "cell_type": "code",
   "execution_count": 13,
   "id": "c74d90bc",
   "metadata": {},
   "outputs": [
    {
     "data": {
      "text/plain": [
       "['TeleportChain__DemonstrateTeleportationUsingPresharedEntanglement__Interop']"
      ]
     },
     "execution_count": 13,
     "metadata": {},
     "output_type": "execute_result"
    }
   ],
   "source": [
    "[function.name for function in mod.functions]"
   ]
  },
  {
   "cell_type": "markdown",
   "id": "dd114f64",
   "metadata": {},
   "source": [
    "We can either use an index on the mod.functions list or the `get_func_by_name` function."
   ]
  },
  {
   "cell_type": "code",
   "execution_count": 14,
   "id": "5bb4d334",
   "metadata": {},
   "outputs": [
    {
     "name": "stdout",
     "output_type": "stream",
     "text": [
      "<pyqir_parser.parser.QirFunction object at 0x000002DA3AB3F760>\n"
     ]
    }
   ],
   "source": [
    "func_name = \"TeleportChain__DemonstrateTeleportationUsingPresharedEntanglement__Interop\"\n",
    "func = mod.get_func_by_name(func_name)\n",
    "print(func)"
   ]
  },
  {
   "cell_type": "code",
   "execution_count": 15,
   "id": "7701ad97",
   "metadata": {},
   "outputs": [
    {
     "data": {
      "text/plain": [
       "['blocks',\n",
       " 'func',\n",
       " 'get_attribute_value',\n",
       " 'get_block_by_name',\n",
       " 'get_instruction_by_output_name',\n",
       " 'name',\n",
       " 'parameters',\n",
       " 'required_qubits',\n",
       " 'required_results',\n",
       " 'return_type']"
      ]
     },
     "execution_count": 15,
     "metadata": {},
     "output_type": "execute_result"
    }
   ],
   "source": [
    "list(filter(lambda a:  not(a.startswith('__')), dir(func)))"
   ]
  },
  {
   "cell_type": "markdown",
   "id": "97fdb823",
   "metadata": {},
   "source": [
    "Now that we have a function, let's look at it's blocks."
   ]
  },
  {
   "cell_type": "code",
   "execution_count": 16,
   "id": "97db81f6",
   "metadata": {},
   "outputs": [
    {
     "data": {
      "text/plain": [
       "['block',\n",
       " 'get_phi_pairs_by_source_name',\n",
       " 'instructions',\n",
       " 'name',\n",
       " 'phi_nodes',\n",
       " 'terminator']"
      ]
     },
     "execution_count": 16,
     "metadata": {},
     "output_type": "execute_result"
    }
   ],
   "source": [
    "list(filter(lambda a:  not(a.startswith('__')), dir(func.blocks[0])))"
   ]
  },
  {
   "cell_type": "code",
   "execution_count": 17,
   "id": "219b859a",
   "metadata": {},
   "outputs": [
    {
     "data": {
      "text/plain": [
       "['entry',\n",
       " 'then0__1.i.i.i',\n",
       " 'continue__1.i.i.i',\n",
       " 'then0__2.i.i.i',\n",
       " 'TeleportChain__TeleportQubitUsingPresharedEntanglement__body.2.exit.i',\n",
       " 'then0__1.i.i1.i',\n",
       " 'continue__1.i.i2.i',\n",
       " 'then0__2.i.i3.i',\n",
       " 'TeleportChain__DemonstrateTeleportationUsingPresharedEntanglement__body.1.exit']"
      ]
     },
     "execution_count": 17,
     "metadata": {},
     "output_type": "execute_result"
    }
   ],
   "source": [
    "[block.name for block in func.blocks]"
   ]
  },
  {
   "cell_type": "markdown",
   "id": "ecdf73bd",
   "metadata": {},
   "source": [
    "To look at the function another way, let's use a visualization tool to see the relationship between the blocks."
   ]
  },
  {
   "cell_type": "code",
   "execution_count": 26,
   "id": "7de27f54",
   "metadata": {},
   "outputs": [],
   "source": [
    "import retworkx as rx\n",
    "import retworkx.visualization\n",
    "import matplotlib.pyplot as plt\n",
    "\n",
    "def control_flow_graph(func : PyQirFunction) -> \"rx.Digraph\":\n",
    "    cfg = rx.PyDiGraph(check_cycle=False, multigraph=True)\n",
    "    blocks = func.blocks\n",
    "    block_indices = {\n",
    "        block.name: cfg.add_node(block)\n",
    "        for block in blocks\n",
    "    }\n",
    "\n",
    "    idx_return = cfg.add_node(\"Return\")\n",
    "    idx_bottom = None\n",
    "\n",
    "    for idx_block, block in enumerate(blocks):\n",
    "        term = block.terminator\n",
    "        if isinstance(term, pqp.QirCondBrTerminator):\n",
    "            cfg.add_edge(idx_block, block_indices[term.true_dest], True)\n",
    "            cfg.add_edge(idx_block, block_indices[term.false_dest], False)\n",
    "        elif isinstance(term, pqp.QirBrTerminator):\n",
    "            cfg.add_edge(idx_block, block_indices[term.dest], ())\n",
    "        elif isinstance(term, pqp.QirRetTerminator):\n",
    "            cfg.add_edge(idx_block, idx_return, ())\n",
    "        elif isinstance(term, pqp.QirSwitchTerminator):\n",
    "            print(f\"Not yet implemented: {term} in {block}\")\n",
    "        elif isinstance(term, pqp.QirUnreachableTerminator):\n",
    "            if idx_bottom is None:\n",
    "                idx_bottom = cfg.add_node(\"⊥\")\n",
    "            cfg.add_edge(idx_block, idx_bottom)\n",
    "        else:\n",
    "            print(f\"Not yet implemented: {term} in {block}\")\n",
    "\n",
    "    return cfg"
   ]
  },
  {
   "cell_type": "code",
   "execution_count": 27,
   "id": "7230bcc9",
   "metadata": {},
   "outputs": [
    {
     "data": {
      "image/png": "[encoded data removed]",
      "text/plain": [
       "<Figure size 864x864 with 1 Axes>"
      ]
     },
     "metadata": {},
     "output_type": "display_data"
    }
   ],
   "source": [
    "plt.figure(figsize=(12, 12))\n",
    "rx.visualization.mpl_draw(\n",
    "    control_flow_graph(mod.functions[0]),\n",
    "    with_labels=True,\n",
    "    labels=lambda block: getattr(block, \"name\", block),\n",
    "    edge_labels=str,\n",
    "    node_size=1200\n",
    ")"
   ]
  },
  {
   "cell_type": "markdown",
   "id": "68b3240a",
   "metadata": {},
   "source": [
    "Looking at all of the instructions in this function in the QIR program:"
   ]
  },
  {
   "cell_type": "code",
   "execution_count": 28,
   "id": "27eb8d52",
   "metadata": {},
   "outputs": [
    {
     "data": {
      "text/plain": [
       "{'entry': [(None, <pyqir_parser.parser.QirVoidType at 0x2da3c7fa940>),\n",
       "  (None, <pyqir_parser.parser.QirVoidType at 0x2da3c7fa670>),\n",
       "  (None, <pyqir_parser.parser.QirVoidType at 0x2da3c7fa790>),\n",
       "  (None, <pyqir_parser.parser.QirVoidType at 0x2da3c7fa6d0>),\n",
       "  (None, <pyqir_parser.parser.QirVoidType at 0x2da3c7fa400>),\n",
       "  (None, <pyqir_parser.parser.QirVoidType at 0x2da3c7fa460>),\n",
       "  (None, <pyqir_parser.parser.QirVoidType at 0x2da3c7fa310>),\n",
       "  (None, <pyqir_parser.parser.QirVoidType at 0x2da3c7fa1c0>),\n",
       "  (None, <pyqir_parser.parser.QirVoidType at 0x2da3c7fa220>),\n",
       "  (None, <pyqir_parser.parser.QirVoidType at 0x2da3c7f4ac0>),\n",
       "  ('0', <pyqir_parser.parser.QirIntegerType at 0x2da3c7f4b20>)],\n",
       " 'then0__1.i.i.i': [(None,\n",
       "   <pyqir_parser.parser.QirVoidType at 0x2da3c801b20>)],\n",
       " 'continue__1.i.i.i': [(None,\n",
       "   <pyqir_parser.parser.QirVoidType at 0x2da3c801100>),\n",
       "  (None, <pyqir_parser.parser.QirVoidType at 0x2da3c7fa910>),\n",
       "  ('1', <pyqir_parser.parser.QirIntegerType at 0x2da3c7faeb0>)],\n",
       " 'then0__2.i.i.i': [(None,\n",
       "   <pyqir_parser.parser.QirVoidType at 0x2da3c801580>)],\n",
       " 'TeleportChain__TeleportQubitUsingPresharedEntanglement__body.2.exit.i': [(None,\n",
       "   <pyqir_parser.parser.QirVoidType at 0x2da3c801fa0>),\n",
       "  (None, <pyqir_parser.parser.QirVoidType at 0x2da3c7f49d0>),\n",
       "  (None, <pyqir_parser.parser.QirVoidType at 0x2da3c7f4880>),\n",
       "  (None, <pyqir_parser.parser.QirVoidType at 0x2da3c7f48e0>),\n",
       "  ('2', <pyqir_parser.parser.QirIntegerType at 0x2da3c7f4fd0>)],\n",
       " 'then0__1.i.i1.i': [(None,\n",
       "   <pyqir_parser.parser.QirVoidType at 0x2da3c801220>)],\n",
       " 'continue__1.i.i2.i': [(None,\n",
       "   <pyqir_parser.parser.QirVoidType at 0x2da3c7fab50>),\n",
       "  (None, <pyqir_parser.parser.QirVoidType at 0x2da3c7f4f40>),\n",
       "  ('3', <pyqir_parser.parser.QirIntegerType at 0x2da3c7f42b0>)],\n",
       " 'then0__2.i.i3.i': [(None,\n",
       "   <pyqir_parser.parser.QirVoidType at 0x2da3c7fae20>)],\n",
       " 'TeleportChain__DemonstrateTeleportationUsingPresharedEntanglement__body.1.exit': [(None,\n",
       "   <pyqir_parser.parser.QirVoidType at 0x2da3c801310>),\n",
       "  (None, <pyqir_parser.parser.QirVoidType at 0x2da3c797580>),\n",
       "  (None, <pyqir_parser.parser.QirVoidType at 0x2da3c764a30>),\n",
       "  (None, <pyqir_parser.parser.QirVoidType at 0x2da3c7641c0>),\n",
       "  ('4', <pyqir_parser.parser.QirIntegerType at 0x2da3c764f10>),\n",
       "  ('5', <pyqir_parser.parser.QirIntegerType at 0x2da3c7f0190>)]}"
      ]
     },
     "execution_count": 28,
     "metadata": {},
     "output_type": "execute_result"
    }
   ],
   "source": [
    "{block.name : [(inst.output_name, inst.type) for inst in block.instructions] for block in func.blocks}"
   ]
  },
  {
   "cell_type": "markdown",
   "id": "435646ba",
   "metadata": {},
   "source": [
    "## Testing export example\n",
    "Want to import a bitcode file of a QIR program and dump it out to a cirq or qiskit object.\n",
    "\n",
    "This is most simply viewed as an function on a block in a QIR function, so let's try this on the blocks from the QIR program loaded above. First we have to be sure that the block actually represents a circuit."
   ]
  },
  {
   "cell_type": "code",
   "execution_count": 37,
   "id": "e497f01c",
   "metadata": {},
   "outputs": [],
   "source": [
    "def is_circuit_like(block : QirBlock) -> bool:\n",
    "    return all(\n",
    "        isinstance(instruction, (QirQisCallInstr, QirQirCallInstr))\n",
    "        for instruction in block.instructions\n",
    "    )"
   ]
  },
  {
   "cell_type": "code",
   "execution_count": 39,
   "id": "e784151e",
   "metadata": {},
   "outputs": [
    {
     "name": "stdout",
     "output_type": "stream",
     "text": [
      "['entry', 'then0__1.i.i.i', 'continue__1.i.i.i', 'then0__2.i.i.i', 'TeleportChain__TeleportQubitUsingPresharedEntanglement__body.2.exit.i', 'then0__1.i.i1.i', 'continue__1.i.i2.i', 'then0__2.i.i3.i']\n"
     ]
    }
   ],
   "source": [
    "blks = [block.name for block in func.blocks if is_circuit_like(block)]\n",
    "print(blks)"
   ]
  },
  {
   "cell_type": "markdown",
   "id": "5b0bf441",
   "metadata": {},
   "source": [
    "### Open QASM2.0"
   ]
  },
  {
   "cell_type": "code",
   "execution_count": null,
   "id": "a2dac1fc",
   "metadata": {},
   "outputs": [],
   "source": [
    "class OpenQasm20Exporter(block.name):\n",
    "    header: List[str]\n",
    "    lines: List[str]\n",
    "\n",
    "    qubits: Dict[Any, Optional[int]]\n",
    "    results: Dict[Any, Optional[int]]\n",
    "\n",
    "    qreg = \"q\"\n",
    "    creg = \"c\"\n",
    "\n",
    "    def __init__(self, block_name: str):\n",
    "        self.lines = []\n",
    "        self.header = [\n",
    "            f\"// Generated from QIR block {block_name}.\",\n",
    "            \"OPENQASM 2.0;\",\n",
    "            'include \"qelib1.inc\";',\n",
    "            \"\"\n",
    "        ]\n",
    "        self.qubits = dict()\n",
    "        self.results = dict()\n",
    "\n",
    "    def qubit_as_expr(self, qubit) -> str:\n",
    "        id_qubit = _resolve_id(qubit)\n",
    "        if id_qubit not in self.qubits:\n",
    "            self.qubits[id_qubit] = len(self.qubits)\n",
    "        return f\"{self.qreg}[{self.qubits[id_qubit]}]\"\n",
    "\n",
    "    def result_as_expr(self, result) -> str:\n",
    "        id_result = _resolve_id(result)\n",
    "        if id_result not in self.results:\n",
    "            self.results[id_result] = len(self.results)\n",
    "        return f\"{self.creg}[{self.results[id_result]}]\"\n",
    "\n",
    "    def export(self) -> str:\n",
    "        declarations = []\n",
    "        if self.qubits:\n",
    "            declarations.append(\n",
    "                f\"qreg {self.qreg}[{len(self.qubits)}];\"\n",
    "            )\n",
    "        if self.results:\n",
    "            declarations.append(\n",
    "                f\"creg {self.creg}[{len(self.results)}];\"\n",
    "            )\n",
    "\n",
    "        return \"\\n\".join(\n",
    "            self.header + declarations + self.lines\n",
    "        )\n",
    "\n",
    "    def on_comment(self, text) -> None:\n",
    "        # TODO: split text into lines first.\n",
    "        self.lines.append(f\"// {text}\")\n",
    "\n",
    "    def on_simple_gate(self, name, *qubits) -> None:\n",
    "        qubit_args = [self.qubit_as_expr(qubit) for qubit in qubits]\n",
    "        self.lines.append(f\"{name} {', '.join(map(str, qubit_args))};\")\n",
    "\n",
    "    def on_measure(self, qubit, result) -> None:\n",
    "        self.lines.append(f\"measure {self.qubit_as_expr(qubit)} -> {self.result_as_expr(result)};\")"
   ]
  },
  {
   "cell_type": "code",
   "execution_count": null,
   "id": "264abc6d",
   "metadata": {},
   "outputs": [],
   "source": [
    "from types import MappingProxyType\n",
    "from abc import ABCMeta, abstractmethod\n",
    "from typing import Any, Callable, Dict, List, Optional, Set, Union, Generic, TypeVar\n",
    "from .pyqir import *\n",
    "\n",
    "try:\n",
    "    import qiskit as qk\n",
    "except ImportError:\n",
    "    qk = None\n",
    "\n",
    "try:\n",
    "    import qutip as qt\n",
    "    import qutip.qip.circuit\n",
    "    import qutip.qip.operations\n",
    "except ImportError:\n",
    "    qt = None\n",
    "\n",
    "TOutput = TypeVar('TOutput')\n",
    "\n",
    "# TODO: Better names for these utility functions.\n",
    "def _resolve_id(value: Any, default: str = \"unsupported\") -> Union[int, str]:\n",
    "    if hasattr(value, \"id\"):\n",
    "        return value.id\n",
    "    return default\n",
    "\n",
    "def _resolve(value, in_):\n",
    "    id = _resolve_id(value)\n",
    "    if id not in in_:\n",
    "        in_[id] = len(in_)\n",
    "    return in_[id]\n",
    "\n",
    "class CircuitLikeExporter(Generic[TOutput], metaclass=ABCMeta):\n",
    "    @abstractmethod\n",
    "    def on_simple_gate(self, name, *qubits) -> None:\n",
    "        pass\n",
    "\n",
    "    @abstractmethod\n",
    "    def on_measure(self, qubit, result) -> None:\n",
    "        pass\n",
    "\n",
    "    @abstractmethod\n",
    "    def on_comment(self, text) -> None:\n",
    "        pass\n",
    "\n",
    "    @abstractmethod\n",
    "    def export(self) -> TOutput:\n",
    "        pass\n",
    "\n",
    "    @abstractmethod\n",
    "    def qubit_as_expr(self, qubit) -> str:\n",
    "        pass\n",
    "\n",
    "    @abstractmethod\n",
    "    def result_as_expr(self, result) -> str:\n",
    "        pass"
   ]
  },
  {
   "cell_type": "code",
   "execution_count": null,
   "id": "dae4edad",
   "metadata": {},
   "outputs": [],
   "source": [
    "def export_to(block, exporter: CircuitLikeExporter[TOutput]) -> Optional[TOutput]:\n",
    "    if not block.is_circuit_like:\n",
    "        return None\n",
    "\n",
    "    qis_gate_mappings = {\n",
    "        '__quantum__qis__x__body': 'x',\n",
    "        '__quantum__qis__y__body': 'y',\n",
    "        '__quantum__qis__z__body': 'z',\n",
    "        '__quantum__qis__h__body': 'h',\n",
    "        '__quantum__qis__cnot__body': 'cnot'\n",
    "    }\n",
    "\n",
    "    for instruction in block.instructions:\n",
    "        # Translate simple gates (that is, only quantum args).\n",
    "        if instruction.func_name in qis_gate_mappings:\n",
    "            exporter.on_simple_gate(qis_gate_mappings[instruction.func_name], *instruction.func_args)\n",
    "\n",
    "        # Reset requires nonstandard support.\n",
    "        elif instruction.func_name == \"__quantum__qis__reset__body\":\n",
    "            exporter.on_comment(\"Requires nonstandard reset gate:\")\n",
    "            exporter.on_simple_gate(\"reset\", *instruction.func_args)\n",
    "\n",
    "        # Measurements are special in OpenQASM 2.0, so handle them here.\n",
    "        elif instruction.func_name == \"__quantum__qis__mz__body\":\n",
    "            target, result = instruction.func_args\n",
    "            exporter.on_measure(target, result)\n",
    "            # target = lookup_qubit(target)\n",
    "            # result = lookup_result(result)\n",
    "            # lines.append(f\"measure {target} -> {result};\")\n",
    "\n",
    "        # Handle special cases of QIR functions as needed.\n",
    "        elif instruction.func_name == \"__quantum__qir__read_result\":\n",
    "            exporter.on_comment(f\"%{instruction.output_name} = {exporter.result_as_expr(instruction.func_args[0])}\")\n",
    "\n",
    "        else:\n",
    "            exporter.on_comment(\"// Unsupported QIS operation:\")\n",
    "            exporter.on_comment(f\"// {instruction.func_name} {', '.join(map(str, instruction.func_args))}\")\n",
    "\n",
    "    return exporter.export()"
   ]
  },
  {
   "cell_type": "code",
   "execution_count": null,
   "id": "658e1dde",
   "metadata": {},
   "outputs": [],
   "source": [
    "class QiskitExporter(CircuitLikeExporter[\"qk.QuantumCircuit\"]):\n",
    "    def __init__(self, block_name: str):\n",
    "        self.oq2_exporter = OpenQasm20Exporter(block_name)\n",
    "    def qubit_as_expr(self, qubit) -> str:\n",
    "        return self.oq2_exporter.qubit_as_expr(qubit)\n",
    "    def result_as_expr(self, result) -> str:\n",
    "        return self.oq2_exporter.result_as_expr(result)\n",
    "    def on_comment(self, text) -> None:\n",
    "        return self.oq2_exporter.on_comment(text)\n",
    "    def on_measure(self, qubit, result) -> None:\n",
    "        return self.oq2_exporter.on_measure(qubit, result)\n",
    "    def on_simple_gate(self, name, *qubits) -> None:\n",
    "        return self.oq2_exporter.on_simple_gate(name, *qubits)\n",
    "    def export(self) -> \"qk.QuantumCircuit\":\n",
    "        return qk.QuantumCircuit.from_qasm_str(self.oq2_exporter.export())"
   ]
  },
  {
   "cell_type": "markdown",
   "id": "c8298471",
   "metadata": {},
   "source": [
    "### QuTiP"
   ]
  },
  {
   "cell_type": "code",
   "execution_count": null,
   "id": "298a53de",
   "metadata": {},
   "outputs": [],
   "source": [
    "class QuTiPExporter(CircuitLikeExporter[\"qt.qip.circuit.QubitCircuit\"]):\n",
    "    actions: List[Callable[[\"qt.qip.circuit.QubitCircuit\"], None]]\n",
    "\n",
    "    qubits: Dict[Any, int]\n",
    "    results: Dict[Any, int]\n",
    "\n",
    "    gate_names = MappingProxyType({\n",
    "        'x': 'X',\n",
    "        'y': 'Y',\n",
    "        'z': 'Z',\n",
    "        'reset': 'reset'\n",
    "    })\n",
    "\n",
    "    def __init__(self):\n",
    "        self.actions = []\n",
    "        self.qubits = {}\n",
    "        self.results = {}\n",
    "\n",
    "    def export(self) -> TOutput:\n",
    "        circuit = qt.qip.circuit.QubitCircuit(N=len(self.qubits), num_cbits=len(self.results))\n",
    "        for action in self.actions:\n",
    "            action(circuit)\n",
    "        return circuit\n",
    "\n",
    "    def qubit_as_expr(self, qubit) -> str:\n",
    "        return repr(_resolve(qubit, self.qubits))\n",
    "\n",
    "    def result_as_expr(self, result) -> str:\n",
    "        return repr(_resolve(result, self.results))\n",
    "\n",
    "    def on_simple_gate(self, name, *qubits) -> None:\n",
    "        targets = [_resolve(qubit, self.qubits) for qubit in qubits]\n",
    "        self.actions.append(lambda circuit:\n",
    "            circuit.add_gate(\n",
    "                self.gate_names[name],\n",
    "                targets=targets\n",
    "            )\n",
    "        )\n",
    "\n",
    "    def on_measure(self, qubit, result) -> None:\n",
    "        targets = [_resolve(qubit, self.qubits)]\n",
    "        classical_store = _resolve(result, self.results)\n",
    "        self.actions.append(lambda circuit:\n",
    "            circuit.add_measurement(\n",
    "                \"MZ\",\n",
    "                targets=targets,\n",
    "                classical_store=classical_store\n",
    "            )\n",
    "        )\n",
    "\n",
    "    def on_comment(self, text) -> None:\n",
    "        print(f\"# {text}\")"
   ]
  },
  {
   "cell_type": "code",
   "execution_count": null,
   "id": "75dff021",
   "metadata": {},
   "outputs": [],
   "source": [
    "class QirBlock:\n",
    "    \"\"\"\n",
    "    Instances of the QirBlock type represent a basic block within a function body. Each basic block is\n",
    "    comprised of a list of instructions executed in sequence and a single, special final instruction \n",
    "    called a terminator that indicates where execution should jump at the end of the block.\n",
    "    \"\"\"\n",
    "    .\n",
    "    .\n",
    "    .\n",
    "    @property\n",
    "    def is_circuit_like(self) -> bool:\n",
    "        return all(\n",
    "            isinstance(instruction, (QirQisCallInstr, QirQirCallInstr))\n",
    "            for instruction in self.instructions\n",
    "        )\n",
    "        # TODO: Check all args are qubit constants.\n",
    "\n",
    "    def as_openqasm_20(self) -> Optional[str]:\n",
    "        \"\"\"\n",
    "        If this block is circuit-like (that is, consists only of quantum instructions),\n",
    "        converts it to a representation in OpenQASM 2.0; otherwise, returns `None`.\n",
    "        Note that the returned representation does not include leading phi nodes, nor trailing terminators.\n",
    "        \"\"\"\n",
    "        return export.export_to(self, export.OpenQasm20Exporter(self.name))\n",
    "\n",
    "    def as_qiskit_circuit(self) -> Optional[\"qk.QuantumCircuit\"]:\n",
    "        return export.export_to(self, export.QiskitExporter(self.name))\n",
    "\n",
    "    def as_qutip_circuit(self) -> Optional[\"qt.qip.circuit.QubitCircuit\"]:\n",
    "        return export.export_to(self, export.QuTiPExporter())"
   ]
  },
  {
   "cell_type": "code",
   "execution_count": 46,
   "id": "e0232305",
   "metadata": {},
   "outputs": [
    {
     "data": {
      "text/plain": [
       "'TeleportChain__DemonstrateTeleportationUsingPresharedEntanglement__Interop'"
      ]
     },
     "execution_count": 46,
     "metadata": {},
     "output_type": "execute_result"
    }
   ],
   "source": [
    "mod.functions[0].name"
   ]
  },
  {
   "cell_type": "code",
   "execution_count": 31,
   "id": "cece928b",
   "metadata": {},
   "outputs": [],
   "source": [
    "mod = module_from_bitcode(\"teleportchain.baseprofile.bc\")\n",
    "func_name = \"TeleportChain__DemonstrateTeleportationUsingPresharedEntanglement__Interop\"\n",
    "blocks = mod.get_func_by_name(func_name).blocks\n",
    "fav = mod.get_func_by_name(func_name).blocks[2]"
   ]
  },
  {
   "cell_type": "code",
   "execution_count": 33,
   "id": "268e94ff",
   "metadata": {},
   "outputs": [
    {
     "data": {
      "text/plain": [
       "[<PyQirInstruction at 0x2da3949f2f0>,\n",
       " <PyQirInstruction at 0x2da3949ed50>,\n",
       " <PyQirInstruction at 0x2da394a1a50>]"
      ]
     },
     "execution_count": 33,
     "metadata": {},
     "output_type": "execute_result"
    }
   ],
   "source": [
    "[fav.instructions[i] for i in range(3)]"
   ]
  },
  {
   "cell_type": "code",
   "execution_count": 34,
   "id": "939d2cbf",
   "metadata": {},
   "outputs": [
    {
     "data": {
      "text/plain": [
       "[False, True, False, True, False, True, False, True, False]"
      ]
     },
     "execution_count": 34,
     "metadata": {},
     "output_type": "execute_result"
    }
   ],
   "source": [
    "[blocks[i].terminator.is_br for i in range(len(blocks))]"
   ]
  },
  {
   "cell_type": "code",
   "execution_count": 35,
   "id": "bc5f477c",
   "metadata": {},
   "outputs": [
    {
     "data": {
      "text/plain": [
       "'continue__1.i.i.i'"
      ]
     },
     "execution_count": 35,
     "metadata": {},
     "output_type": "execute_result"
    }
   ],
   "source": [
    "blocks[1].terminator.br_dest"
   ]
  },
  {
   "cell_type": "code",
   "execution_count": 36,
   "id": "979c0f17",
   "metadata": {},
   "outputs": [
    {
     "data": {
      "text/plain": [
       "[[False, False, False, False, False, False, False, False, False, False, False],\n",
       " [False],\n",
       " [False, False, False],\n",
       " [False],\n",
       " [False, False, False, False, False],\n",
       " [False],\n",
       " [False, False, False],\n",
       " [False],\n",
       " [False, False, False, False, False, False]]"
      ]
     },
     "execution_count": 36,
     "metadata": {},
     "output_type": "execute_result"
    }
   ],
   "source": [
    "#check if instructions in a block are circuit like i.e. are of the type `QirQisCallInstr` or `QirQirCallInstr`\n",
    "[[isinstance(instruction, (QirQisCallInstr, QirQirCallInstr))\n",
    "  for instruction in block.instructions]\n",
    "  for block in mod.get_func_by_name(func_name).blocks]"
   ]
  },
  {
   "cell_type": "code",
   "execution_count": null,
   "id": "9fe3c5a6",
   "metadata": {},
   "outputs": [],
   "source": []
  }
 ],
 "metadata": {
  "kernelspec": {
   "display_name": "pyqir-dev",
   "language": "python",
   "name": "pyqir-dev"
  },
  "language_info": {
   "codemirror_mode": {
    "name": "ipython",
    "version": 3
   },
   "file_extension": ".py",
   "mimetype": "text/x-python",
   "name": "python",
   "nbconvert_exporter": "python",
   "pygments_lexer": "ipython3",
   "version": "3.9.9"
  }
 },
 "nbformat": 4,
 "nbformat_minor": 5
}
